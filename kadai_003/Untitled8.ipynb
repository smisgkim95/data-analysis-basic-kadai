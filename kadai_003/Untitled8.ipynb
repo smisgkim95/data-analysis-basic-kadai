{
  "nbformat": 4,
  "nbformat_minor": 0,
  "metadata": {
    "colab": {
      "provenance": [],
      "toc_visible": true
    },
    "kernelspec": {
      "name": "python3",
      "display_name": "Python 3"
    },
    "language_info": {
      "name": "python"
    }
  },
  "cells": [
    {
      "cell_type": "code",
      "source": [
        "import numpy as np\n",
        "\n",
        "A = np.array([[0,1], [2,3], [4,5]])\n",
        "B = np.array([[0,1,2,3], [4,5,6,7]])\n",
        "\n",
        "dot_A_B = np.dot(A, B)\n",
        "dot_A_B\n",
        "\n",
        "dot_A_B.max()\n"
      ],
      "metadata": {
        "id": "RvCcMFHcVufq"
      },
      "execution_count": null,
      "outputs": []
    }
  ]
}